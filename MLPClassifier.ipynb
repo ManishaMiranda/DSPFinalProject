{
 "cells": [
  {
   "cell_type": "code",
   "execution_count": 1,
   "metadata": {
    "id": "XzY9vMQM5cZh"
   },
   "outputs": [],
   "source": [
    "import numpy as np\n",
    "import os\n",
    "from matplotlib import pyplot as plt\n",
    "import cv2\n",
    "import random\n",
    "import numpy as np\n",
    "import imgaug.augmenters as iaa\n",
    "import tensorflow as tf\n",
    "import numpy as np\n",
    "from sklearn.neural_network import MLPClassifier\n",
    "from sklearn.metrics import classification_report\n",
    "from sklearn.metrics import accuracy_score\n",
    "\n",
    "\n",
    "#/content/drive/My Drive/level_0_500\n",
    "DATADIR = \"/content/drive/MyDrive/Augmentation\"\n",
    "CATEGORIES = [\"level0_aug\",\"level4_aug\"]"
   ]
  },
  {
   "cell_type": "code",
   "execution_count": 2,
   "metadata": {
    "id": "Pv-GwKUv5uuH"
   },
   "outputs": [],
   "source": [
    "training_data = []\n",
    "\n",
    "\n",
    "def create_training_data():\n",
    "    for category in CATEGORIES :\n",
    "        path = os.path.join(DATADIR, category)\n",
    "        class_num = CATEGORIES.index(category)\n",
    "        for img in os.listdir(path):\n",
    "            try :\n",
    "                img_array = cv2.imread(os.path.join(path, img),cv2.IMREAD_COLOR)[...,::-1]\n",
    "                img_array = cv2.cvtColor(img_array, cv2.COLOR_BGR2GRAY)\n",
    "               ## img_array = cv2.addWeighted(img_array,4, cv2.GaussianBlur(img_array , (0,0) , 20) ,-4 ,128)\n",
    "                new_array = cv2.resize(img_array, (512, 512))\n",
    "                training_data.append([new_array, class_num])\n",
    "                rotate=iaa.Affine(rotate=(90))\n",
    "                rotated_image=rotate.augment_image(new_array)\n",
    "                training_data.append([rotated_image, class_num])\n",
    "                flip_hr=iaa.Fliplr(p=1.0)\n",
    "                flip_hr_image= flip_hr.augment_image(new_array)\n",
    "                training_data.append([flip_hr_image, class_num])\n",
    "            except Exception as e:\n",
    "                pass"
   ]
  },
  {
   "cell_type": "code",
   "execution_count": 3,
   "metadata": {
    "id": "79C_k7wW5u1V"
   },
   "outputs": [],
   "source": [
    "create_training_data()"
   ]
  },
  {
   "cell_type": "code",
   "execution_count": 4,
   "metadata": {
    "id": "ts50sdLW5u4a"
   },
   "outputs": [],
   "source": [
    "random.shuffle(training_data)"
   ]
  },
  {
   "cell_type": "code",
   "execution_count": 5,
   "metadata": {
    "colab": {
     "base_uri": "https://localhost:8080/"
    },
    "id": "DsFjrfC25u7o",
    "outputId": "902286cb-978b-4238-fab2-a46ec15da089"
   },
   "outputs": [
    {
     "data": {
      "text/plain": [
       "(627, 512, 512)"
      ]
     },
     "execution_count": 5,
     "metadata": {
      "tags": []
     },
     "output_type": "execute_result"
    }
   ],
   "source": [
    "X = [] #features\n",
    "y = [] #labels\n",
    "\n",
    "for features in training_data:\n",
    "    X.append(features[0])\n",
    "    y.append(features[1])\n",
    "X = np.array(X)\n",
    "X.shape"
   ]
  },
  {
   "cell_type": "code",
   "execution_count": 6,
   "metadata": {
    "id": "UFneveOp5vAK"
   },
   "outputs": [],
   "source": [
    "from sklearn.model_selection import train_test_split\n",
    "\n",
    "train_X_full, test_X, train_y_full, test_y = train_test_split(X, y, test_size=0.2, stratify=y)"
   ]
  },
  {
   "cell_type": "code",
   "execution_count": 8,
   "metadata": {
    "id": "M4F-RoMceYfC"
   },
   "outputs": [],
   "source": [
    "train_X_full = train_X_full/255.0\n",
    "test_X = test_X/255.0"
   ]
  },
  {
   "cell_type": "code",
   "execution_count": 9,
   "metadata": {
    "id": "CAKbEjj75vDk"
   },
   "outputs": [],
   "source": [
    "#create validation data as well, plus scaling down x values from 1-255 to 0-1 scale\n",
    "X_valid, train_X = train_X_full[:60], train_X_full[60:]\n",
    "y_valid, train_y = train_y_full[:60], train_y_full[60:]"
   ]
  },
  {
   "cell_type": "code",
   "execution_count": 10,
   "metadata": {
    "colab": {
     "base_uri": "https://localhost:8080/"
    },
    "id": "qrTDTthl5vG9",
    "outputId": "e8cd3a45-f5de-40e7-eb56-fd13705a7281"
   },
   "outputs": [
    {
     "data": {
      "text/plain": [
       "((60, 512, 512), (441, 512, 512), (126, 512, 512))"
      ]
     },
     "execution_count": 10,
     "metadata": {
      "tags": []
     },
     "output_type": "execute_result"
    }
   ],
   "source": [
    "X_valid.shape , train_X.shape,test_X.shape"
   ]
  },
  {
   "cell_type": "code",
   "execution_count": 11,
   "metadata": {
    "id": "TYanfHiZ5vKc"
   },
   "outputs": [],
   "source": [
    "X_valid = X_valid.reshape(60,262144)\n",
    "train_X = train_X.reshape(441,262144)\n",
    "test_X = test_X.reshape(126,262144)"
   ]
  },
  {
   "cell_type": "code",
   "execution_count": 12,
   "metadata": {
    "colab": {
     "base_uri": "https://localhost:8080/"
    },
    "id": "L6QzGduj5vRO",
    "outputId": "75237c11-1e71-45e3-b9f7-5f4a9eb4b7a5"
   },
   "outputs": [
    {
     "data": {
      "text/plain": [
       "((60, 262144), (441, 262144), (126, 262144))"
      ]
     },
     "execution_count": 12,
     "metadata": {
      "tags": []
     },
     "output_type": "execute_result"
    }
   ],
   "source": [
    "X_valid.shape, train_X.shape,test_X.shape"
   ]
  },
  {
   "cell_type": "code",
   "execution_count": 13,
   "metadata": {
    "id": "HviRJeqL5vUT"
   },
   "outputs": [],
   "source": [
    "from sklearn.neural_network import MLPClassifier"
   ]
  },
  {
   "cell_type": "code",
   "execution_count": 14,
   "metadata": {
    "id": "gOYQgX1i5vXt"
   },
   "outputs": [],
   "source": [
    "import numpy as np\n",
    "train_y = np.array(train_y)"
   ]
  },
  {
   "cell_type": "code",
   "execution_count": 15,
   "metadata": {
    "colab": {
     "base_uri": "https://localhost:8080/"
    },
    "id": "kbieC55J5vbI",
    "outputId": "74d599d0-f7aa-4002-c374-8151e19f3d2f"
   },
   "outputs": [
    {
     "name": "stderr",
     "output_type": "stream",
     "text": [
      "/usr/local/lib/python3.6/dist-packages/sklearn/neural_network/_multilayer_perceptron.py:573: UserWarning: Training interrupted by user.\n",
      "  warnings.warn(\"Training interrupted by user.\")\n"
     ]
    },
    {
     "data": {
      "text/plain": [
       "MLPClassifier(activation='relu', alpha=0.01, batch_size=10, beta_1=0.9,\n",
       "              beta_2=0.999, early_stopping=False, epsilon=1e-08,\n",
       "              hidden_layer_sizes=(32, 16, 8, 2), learning_rate='constant',\n",
       "              learning_rate_init=0.0002, max_fun=15000, max_iter=100,\n",
       "              momentum=0.9, n_iter_no_change=10, nesterovs_momentum=True,\n",
       "              power_t=0.5, random_state=None, shuffle=True, solver='sgd',\n",
       "              tol=0.0001, validation_fraction=0.01, verbose=False,\n",
       "              warm_start=False)"
      ]
     },
     "execution_count": 15,
     "metadata": {
      "tags": []
     },
     "output_type": "execute_result"
    }
   ],
   "source": [
    "mlp_clf = MLPClassifier(hidden_layer_sizes=(32,16,8,2),alpha= 0.01, batch_size= 10,learning_rate_init=0.0002,validation_fraction=0.01,\n",
    "                     max_iter=100,activation = 'relu',\n",
    "                       solver='sgd')\n",
    "mlp_clf.fit(train_X, train_y)"
   ]
  },
  {
   "cell_type": "code",
   "execution_count": 16,
   "metadata": {
    "id": "Mv9OWyhK5veL"
   },
   "outputs": [],
   "source": [
    "test_y_pred = mlp_clf.predict(test_X)"
   ]
  },
  {
   "cell_type": "code",
   "execution_count": 17,
   "metadata": {
    "colab": {
     "base_uri": "https://localhost:8080/"
    },
    "id": "yqFH-S0BD6U5",
    "outputId": "3fb0e882-1f66-40e2-93a1-96b3f41b29bb"
   },
   "outputs": [
    {
     "data": {
      "text/plain": [
       "array([[ 0, 63],\n",
       "       [ 0, 63]])"
      ]
     },
     "execution_count": 17,
     "metadata": {
      "tags": []
     },
     "output_type": "execute_result"
    }
   ],
   "source": [
    "from sklearn.metrics import confusion_matrix\n",
    "\n",
    "confusion_matrix(test_y, test_y_pred)"
   ]
  },
  {
   "cell_type": "code",
   "execution_count": 18,
   "metadata": {
    "colab": {
     "base_uri": "https://localhost:8080/"
    },
    "id": "3et1aKcUD6dz",
    "outputId": "1c998bdc-d1a9-48de-8471-16d11891366b"
   },
   "outputs": [
    {
     "name": "stdout",
     "output_type": "stream",
     "text": [
      "0.5\n"
     ]
    }
   ],
   "source": [
    "from sklearn.metrics import accuracy_score\n",
    "\n",
    "print(accuracy_score(test_y, test_y_pred))"
   ]
  },
  {
   "cell_type": "code",
   "execution_count": 19,
   "metadata": {
    "colab": {
     "base_uri": "https://localhost:8080/"
    },
    "id": "T3KaM9uy4bK-",
    "outputId": "6175a2cf-33c7-44d8-d241-d6e7cc4e0504"
   },
   "outputs": [
    {
     "name": "stdout",
     "output_type": "stream",
     "text": [
      "              precision    recall  f1-score   support\n",
      "\n",
      "           0       0.00      0.00      0.00        63\n",
      "           1       0.50      1.00      0.67        63\n",
      "\n",
      "    accuracy                           0.50       126\n",
      "   macro avg       0.25      0.50      0.33       126\n",
      "weighted avg       0.25      0.50      0.33       126\n",
      "\n"
     ]
    },
    {
     "name": "stderr",
     "output_type": "stream",
     "text": [
      "/usr/local/lib/python3.6/dist-packages/sklearn/metrics/_classification.py:1272: UndefinedMetricWarning: Precision and F-score are ill-defined and being set to 0.0 in labels with no predicted samples. Use `zero_division` parameter to control this behavior.\n",
      "  _warn_prf(average, modifier, msg_start, len(result))\n"
     ]
    }
   ],
   "source": [
    "from sklearn.metrics import classification_report\n",
    "print(classification_report(test_y, test_y_pred))"
   ]
  }
 ],
 "metadata": {
  "colab": {
   "collapsed_sections": [],
   "machine_shape": "hm",
   "name": "MLPClassifier.ipynb",
   "provenance": []
  },
  "kernelspec": {
   "display_name": "Python 3",
   "language": "python",
   "name": "python3"
  },
  "language_info": {
   "codemirror_mode": {
    "name": "ipython",
    "version": 3
   },
   "file_extension": ".py",
   "mimetype": "text/x-python",
   "name": "python",
   "nbconvert_exporter": "python",
   "pygments_lexer": "ipython3",
   "version": "3.7.4"
  }
 },
 "nbformat": 4,
 "nbformat_minor": 1
}
