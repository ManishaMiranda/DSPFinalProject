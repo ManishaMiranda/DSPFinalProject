{
  "nbformat": 4,
  "nbformat_minor": 0,
  "metadata": {
    "accelerator": "GPU",
    "colab": {
      "name": "Project_binary_classification_with_grid_search.ipynb",
      "provenance": [],
      "machine_shape": "hm"
    },
    "kernelspec": {
      "display_name": "Python 3",
      "language": "python",
      "name": "python3"
    },
    "language_info": {
      "codemirror_mode": {
        "name": "ipython",
        "version": 3
      },
      "file_extension": ".py",
      "mimetype": "text/x-python",
      "name": "python",
      "nbconvert_exporter": "python",
      "pygments_lexer": "ipython3",
      "version": "3.7.4"
    }
  },
  "cells": [
    {
      "cell_type": "code",
      "metadata": {
        "id": "1psnvKpsyu_e"
      },
      "source": [
        "import numpy as np\n",
        "import os\n",
        "from matplotlib import pyplot as plt\n",
        "import cv2\n",
        "import random\n",
        "import numpy as np\n",
        "import imgaug.augmenters as iaa\n",
        "\n",
        "\n",
        "#/content/drive/My Drive/level_0_500\n",
        "DATADIR = \"/content/drive/MyDrive/resized_train_cropped\"\n",
        "CATEGORIES = [\"level_0\",\"level_4\"]\n",
        "#"
      ],
      "execution_count": null,
      "outputs": []
    },
    {
      "cell_type": "code",
      "metadata": {
        "colab": {
          "base_uri": "https://localhost:8080/"
        },
        "id": "YFn9ccIA0UTq",
        "outputId": "6c4f2074-e408-446d-cdf6-5c1bdf4bb36a"
      },
      "source": [
        "from google.colab import drive\n",
        "drive.mount('/content/drive')"
      ],
      "execution_count": null,
      "outputs": [
        {
          "output_type": "stream",
          "text": [
            "Drive already mounted at /content/drive; to attempt to forcibly remount, call drive.mount(\"/content/drive\", force_remount=True).\n"
          ],
          "name": "stdout"
        }
      ]
    },
    {
      "cell_type": "code",
      "metadata": {
        "id": "67SwANoZ0UW7"
      },
      "source": [
        "training_data = []\n",
        "\n",
        "\n",
        "def create_training_data():\n",
        "    for category in CATEGORIES :\n",
        "        path = os.path.join(DATADIR, category)\n",
        "        class_num = CATEGORIES.index(category)\n",
        "        for img in os.listdir(path):\n",
        "            try :\n",
        "                img_array = cv2.imread(os.path.join(path, img),cv2.IMREAD_COLOR)[...,::-1]\n",
        "                img_array = cv2.cvtColor(img_array, cv2.COLOR_BGR2GRAY)\n",
        "                img_array = cv2.addWeighted(img_array,4, cv2.GaussianBlur(img_array , (0,0) , 15) ,-4 ,128)\n",
        "                new_array = cv2.resize(img_array, (512, 512))\n",
        "                training_data.append([new_array, class_num])\n",
        "                rotate=iaa.Affine(rotate=(90))\n",
        "                rotated_image=rotate.augment_image(new_array)\n",
        "                training_data.append([rotated_image, class_num])\n",
        "                flip_hr=iaa.Fliplr(p=1.0)\n",
        "                flip_hr_image= flip_hr.augment_image(new_array)\n",
        "                training_data.append([flip_hr_image, class_num])\n",
        "            except Exception as e:\n",
        "                pass"
      ],
      "execution_count": null,
      "outputs": []
    },
    {
      "cell_type": "code",
      "metadata": {
        "id": "_I4GaAJ40Uaa"
      },
      "source": [
        "create_training_data()"
      ],
      "execution_count": null,
      "outputs": []
    },
    {
      "cell_type": "code",
      "metadata": {
        "colab": {
          "base_uri": "https://localhost:8080/"
        },
        "id": "0nuHxH3xJ5X0",
        "outputId": "d1db5b1f-8c2f-44c5-c510-7d5c9996abcd"
      },
      "source": [
        "len(training_data)"
      ],
      "execution_count": null,
      "outputs": [
        {
          "output_type": "execute_result",
          "data": {
            "text/plain": [
              "1536"
            ]
          },
          "metadata": {
            "tags": []
          },
          "execution_count": 5
        }
      ]
    },
    {
      "cell_type": "code",
      "metadata": {
        "id": "JsIOPRbi0Udy"
      },
      "source": [
        "random.shuffle(training_data)"
      ],
      "execution_count": null,
      "outputs": []
    },
    {
      "cell_type": "code",
      "metadata": {
        "id": "dp7j27p70UhB"
      },
      "source": [
        "X = [] #features\n",
        "y = [] #labels\n",
        "\n",
        "for features in training_data:\n",
        "    X.append(features[0])\n",
        "    y.append(features[1])"
      ],
      "execution_count": null,
      "outputs": []
    },
    {
      "cell_type": "code",
      "metadata": {
        "colab": {
          "base_uri": "https://localhost:8080/"
        },
        "id": "pb5M4N2P0UkQ",
        "outputId": "8282bde0-2744-408d-c146-f959bcc627ef"
      },
      "source": [
        "X = np.array(X)\n",
        "X.shape"
      ],
      "execution_count": null,
      "outputs": [
        {
          "output_type": "execute_result",
          "data": {
            "text/plain": [
              "(1536, 512, 512)"
            ]
          },
          "metadata": {
            "tags": []
          },
          "execution_count": 8
        }
      ]
    },
    {
      "cell_type": "code",
      "metadata": {
        "id": "eYTLj-T90jdk"
      },
      "source": [
        "from sklearn.model_selection import train_test_split\n",
        "\n",
        "train_X, test_X, train_y, test_y = train_test_split(X, y, test_size=0.2, stratify=y)"
      ],
      "execution_count": null,
      "outputs": []
    },
    {
      "cell_type": "code",
      "metadata": {
        "id": "-Mi_9pfq0jhW"
      },
      "source": [
        "train_y=np.array(train_y)\n",
        "test_y=np.array(test_y)"
      ],
      "execution_count": null,
      "outputs": []
    },
    {
      "cell_type": "code",
      "metadata": {
        "id": "6mTpfIEV0jll"
      },
      "source": [
        "#train_X.shape\n",
        "import numpy as np\n",
        "train_X = (train_X/255.0)"
      ],
      "execution_count": null,
      "outputs": []
    },
    {
      "cell_type": "code",
      "metadata": {
        "id": "dDEGqimn0jpo"
      },
      "source": [
        "test_X = (test_X/255.0)\n"
      ],
      "execution_count": null,
      "outputs": []
    },
    {
      "cell_type": "code",
      "metadata": {
        "id": "fLRwwb-00jtm"
      },
      "source": [
        "train_X = train_X.reshape(train_X.shape[0], *(512, 512, 1))"
      ],
      "execution_count": null,
      "outputs": []
    },
    {
      "cell_type": "code",
      "metadata": {
        "id": "eUVEnGFs0jxq"
      },
      "source": [
        "test_X = test_X.reshape(test_X.shape[0], *(512, 512, 1))"
      ],
      "execution_count": null,
      "outputs": []
    },
    {
      "cell_type": "code",
      "metadata": {
        "id": "TuhDe-2o0j2t"
      },
      "source": [
        "import tensorflow as tf \n",
        "from tensorflow.keras.models import Sequential\n",
        "from tensorflow.keras.layers import Dense, Dropout, Activation, Flatten, Conv2D, MaxPooling2D\n",
        "import matplotlib.pyplot as plt"
      ],
      "execution_count": null,
      "outputs": []
    },
    {
      "cell_type": "code",
      "metadata": {
        "id": "bPGoeevL0j64"
      },
      "source": [
        "import keras\n",
        "\n",
        "model = Sequential()\n",
        "# 3 convolutional layers\n",
        "model.add(Conv2D(64, (3,3), input_shape = (512, 512 ,1)))\n",
        "model.add(Activation(\"relu\"))\n",
        "model.add(MaxPooling2D(pool_size=(2,2)))\n",
        "\n",
        "model.add(Conv2D(128, (3, 3)))\n",
        "model.add(Activation('relu'))\n",
        "model.add(MaxPooling2D(pool_size=(2,2)))\n",
        "\n",
        "model.add(Conv2D(256, (3, 3)))\n",
        "model.add(Activation('relu'))\n",
        "model.add(MaxPooling2D(pool_size=(2,2)))\n",
        "\n",
        "model.add(Conv2D(256, (3, 3)))\n",
        "model.add(Activation('relu'))\n",
        "model.add(MaxPooling2D(pool_size=(2,2)))\n",
        "\n",
        "model.add(Conv2D(512, (3, 3)))\n",
        "model.add(Activation('relu'))\n",
        "model.add(MaxPooling2D(pool_size=(2,2)))\n",
        "\n",
        "\n",
        "# 2 hidden layers\n",
        "\n",
        "\n",
        "model.add(Flatten())\n",
        "model.add(Dense(2048))\n",
        "model.add(Activation(\"relu\"))\n",
        "\n",
        "model.add(Dense(1024))\n",
        "model.add(Activation(\"relu\"))\n",
        "\n",
        "# The output layer with 2 neurons, for 2 classes\n",
        "model.add(Dense(2))\n",
        "model.add(Activation(\"softmax\"))\n",
        "\n",
        "# Compiling the model using some basic parameters\n",
        "opt = keras.optimizers.Adam(lr=0.0001)\n",
        "model.compile(loss=\"sparse_categorical_crossentropy\",\n",
        "\t\t\t\toptimizer=opt,\n",
        "\t\t\t\tmetrics=[\"accuracy\"])\n",
        "\n",
        "# Training the model, with 40 iterations\n",
        "# validation_split corresponds to the percentage of images used for the validation phase compared to all the images\n"
      ],
      "execution_count": null,
      "outputs": []
    },
    {
      "cell_type": "code",
      "metadata": {
        "colab": {
          "base_uri": "https://localhost:8080/"
        },
        "id": "ukWwA6Ux1qtG",
        "outputId": "a01cdb39-66ca-4ebf-8914-d5d7db42814d"
      },
      "source": [
        "history = model.fit(train_X, train_y, batch_size=20, epochs=10)"
      ],
      "execution_count": null,
      "outputs": [
        {
          "output_type": "stream",
          "text": [
            "Epoch 1/10\n",
            " 2/62 [..............................] - ETA: 4s - loss: 0.7798 - accuracy: 0.4250WARNING:tensorflow:Callbacks method `on_train_batch_end` is slow compared to the batch time (batch time: 0.0503s vs `on_train_batch_end` time: 0.0828s). Check your callbacks.\n",
            "62/62 [==============================] - 8s 134ms/step - loss: 0.6982 - accuracy: 0.4992\n",
            "Epoch 2/10\n",
            "62/62 [==============================] - 8s 130ms/step - loss: 0.6914 - accuracy: 0.5326\n",
            "Epoch 3/10\n",
            "62/62 [==============================] - 8s 131ms/step - loss: 0.6791 - accuracy: 0.5871\n",
            "Epoch 4/10\n",
            "62/62 [==============================] - 8s 130ms/step - loss: 0.6410 - accuracy: 0.6425\n",
            "Epoch 5/10\n",
            "62/62 [==============================] - 8s 131ms/step - loss: 0.5934 - accuracy: 0.6971\n",
            "Epoch 6/10\n",
            "62/62 [==============================] - 8s 131ms/step - loss: 0.5749 - accuracy: 0.7117\n",
            "Epoch 7/10\n",
            "62/62 [==============================] - 8s 131ms/step - loss: 0.5257 - accuracy: 0.7353\n",
            "Epoch 8/10\n",
            "62/62 [==============================] - 8s 131ms/step - loss: 0.4958 - accuracy: 0.7606\n",
            "Epoch 9/10\n",
            "62/62 [==============================] - 8s 131ms/step - loss: 0.4290 - accuracy: 0.8005\n",
            "Epoch 10/10\n",
            "62/62 [==============================] - 8s 131ms/step - loss: 0.3698 - accuracy: 0.8241\n"
          ],
          "name": "stdout"
        }
      ]
    },
    {
      "cell_type": "code",
      "metadata": {
        "colab": {
          "base_uri": "https://localhost:8080/"
        },
        "id": "VzMixpwX1yn9",
        "outputId": "a5c95000-be66-4201-db8e-ac851b63fb2f"
      },
      "source": [
        "from sklearn.metrics import classification_report, confusion_matrix\n",
        "\n",
        "y_pred = model.predict(test_X)\n",
        "\n",
        "ypred=[]\n",
        "\n",
        "for i in y_pred:\n",
        "    if i[0]>i[1]:\n",
        "        ypred.append(0)\n",
        "    else:\n",
        "        ypred.append(1)\n",
        "ypred=np.array(ypred)\n",
        "\n",
        "print(confusion_matrix(test_y,ypred))\n",
        "print(classification_report(test_y,ypred))"
      ],
      "execution_count": null,
      "outputs": [
        {
          "output_type": "stream",
          "text": [
            "[[115  34]\n",
            " [ 59 100]]\n",
            "              precision    recall  f1-score   support\n",
            "\n",
            "           0       0.66      0.77      0.71       149\n",
            "           1       0.75      0.63      0.68       159\n",
            "\n",
            "    accuracy                           0.70       308\n",
            "   macro avg       0.70      0.70      0.70       308\n",
            "weighted avg       0.70      0.70      0.70       308\n",
            "\n"
          ],
          "name": "stdout"
        }
      ]
    },
    {
      "cell_type": "code",
      "metadata": {
        "colab": {
          "base_uri": "https://localhost:8080/",
          "height": 295
        },
        "id": "jtuUD3ef2Czh",
        "outputId": "a039ae3a-6109-4588-87f9-85d40536e7ba"
      },
      "source": [
        "plt.plot(history.history['accuracy'])\n",
        "plt.plot(history.history['loss'])\n",
        "\n",
        "plt.title('Accuracy & Loss')\n",
        "\n",
        "plt.xlabel('Epoch')\n",
        "plt.ylabel('Accuracy')\n",
        "           \n",
        "plt.legend(['Accuracy','Loss'], loc='upper left')\n",
        "plt.show()"
      ],
      "execution_count": null,
      "outputs": [
        {
          "output_type": "display_data",
          "data": {
            "image/png": "[encoded data removed]",
            "text/plain": [
              "<Figure size 432x288 with 1 Axes>"
            ]
          },
          "metadata": {
            "tags": [],
            "needs_background": "light"
          }
        }
      ]
    },
    {
      "cell_type": "code",
      "metadata": {
        "id": "hGi0cLKf0UuB"
      },
      "source": [
        "from sklearn.model_selection import StratifiedKFold\n"
      ],
      "execution_count": null,
      "outputs": []
    },
    {
      "cell_type": "code",
      "metadata": {
        "colab": {
          "base_uri": "https://localhost:8080/"
        },
        "id": "IDSpF6qCpN9I",
        "outputId": "66034c5b-6667-4e85-bd5a-7f1ccaa1571c"
      },
      "source": [
        "# we will optimize the type of pooling layer (max or average) and the activation function of the 2nd and 3rd convolution layers \n",
        "def create_cnn_model():\n",
        "  model = Sequential()\n",
        "# 3 convolutional layers\n",
        "  model.add(Conv2D(64, (3,3), input_shape = (512, 512 ,1)))\n",
        "  model.add(Activation(\"relu\"))\n",
        "  model.add(MaxPooling2D(pool_size=(2,2)))\n",
        "\n",
        "  model.add(Conv2D(128, (3, 3)))\n",
        "  model.add(Activation('relu'))\n",
        "  model.add(MaxPooling2D(pool_size=(2,2)))\n",
        "\n",
        "  model.add(Conv2D(256, (3, 3)))\n",
        "  model.add(Activation('relu'))\n",
        "  model.add(MaxPooling2D(pool_size=(2,2)))\n",
        "\n",
        "  model.add(Conv2D(256, (3, 3)))\n",
        "  model.add(Activation('relu'))\n",
        "  model.add(MaxPooling2D(pool_size=(2,2)))\n",
        "\n",
        "  model.add(Conv2D(512, (3, 3)))\n",
        "  model.add(Activation('relu'))\n",
        "  model.add(MaxPooling2D(pool_size=(2,2)))\n",
        "\n",
        "\n",
        "# 2 hidden layers\n",
        "\n",
        "\n",
        "  model.add(Flatten())\n",
        "  model.add(Dense(2048))\n",
        "  model.add(Activation(\"relu\"))\n",
        "\n",
        "  model.add(Dense(1024))\n",
        "  model.add(Activation(\"relu\"))\n",
        "\n",
        "# The output layer with 2 neurons, for 2 classes\n",
        "  model.add(Dense(2))\n",
        "  model.add(Activation(\"softmax\"))\n",
        "\n",
        "# Compiling the model using some basic parameters\n",
        "  opt = keras.optimizers.Adam(lr=0.0001)\n",
        "  model.compile(loss=\"sparse_categorical_crossentropy\",\n",
        "\t\t\t\toptimizer=opt,\n",
        "\t\t\t\tmetrics=[\"accuracy\"])\n",
        "  return model\n",
        "\n",
        "cnn = create_cnn_model()\n",
        "\n",
        "cnn.compile(loss=\"sparse_categorical_crossentropy\",\n",
        "\t\t\t\toptimizer=opt,\n",
        "\t\t\t\tmetrics=[\"accuracy\"])\n",
        "\n",
        "cnn.summary()"
      ],
      "execution_count": null,
      "outputs": [
        {
          "output_type": "stream",
          "text": [
            "Model: \"sequential_1\"\n",
            "_________________________________________________________________\n",
            "Layer (type)                 Output Shape              Param #   \n",
            "=================================================================\n",
            "conv2d_5 (Conv2D)            (None, 510, 510, 64)      640       \n",
            "_________________________________________________________________\n",
            "activation_8 (Activation)    (None, 510, 510, 64)      0         \n",
            "_________________________________________________________________\n",
            "max_pooling2d_5 (MaxPooling2 (None, 255, 255, 64)      0         \n",
            "_________________________________________________________________\n",
            "conv2d_6 (Conv2D)            (None, 253, 253, 128)     73856     \n",
            "_________________________________________________________________\n",
            "activation_9 (Activation)    (None, 253, 253, 128)     0         \n",
            "_________________________________________________________________\n",
            "max_pooling2d_6 (MaxPooling2 (None, 126, 126, 128)     0         \n",
            "_________________________________________________________________\n",
            "conv2d_7 (Conv2D)            (None, 124, 124, 256)     295168    \n",
            "_________________________________________________________________\n",
            "activation_10 (Activation)   (None, 124, 124, 256)     0         \n",
            "_________________________________________________________________\n",
            "max_pooling2d_7 (MaxPooling2 (None, 62, 62, 256)       0         \n",
            "_________________________________________________________________\n",
            "conv2d_8 (Conv2D)            (None, 60, 60, 256)       590080    \n",
            "_________________________________________________________________\n",
            "activation_11 (Activation)   (None, 60, 60, 256)       0         \n",
            "_________________________________________________________________\n",
            "max_pooling2d_8 (MaxPooling2 (None, 30, 30, 256)       0         \n",
            "_________________________________________________________________\n",
            "conv2d_9 (Conv2D)            (None, 28, 28, 512)       1180160   \n",
            "_________________________________________________________________\n",
            "activation_12 (Activation)   (None, 28, 28, 512)       0         \n",
            "_________________________________________________________________\n",
            "max_pooling2d_9 (MaxPooling2 (None, 14, 14, 512)       0         \n",
            "_________________________________________________________________\n",
            "flatten_1 (Flatten)          (None, 100352)            0         \n",
            "_________________________________________________________________\n",
            "dense_3 (Dense)              (None, 2048)              205522944 \n",
            "_________________________________________________________________\n",
            "activation_13 (Activation)   (None, 2048)              0         \n",
            "_________________________________________________________________\n",
            "dense_4 (Dense)              (None, 1024)              2098176   \n",
            "_________________________________________________________________\n",
            "activation_14 (Activation)   (None, 1024)              0         \n",
            "_________________________________________________________________\n",
            "dense_5 (Dense)              (None, 2)                 2050      \n",
            "_________________________________________________________________\n",
            "activation_15 (Activation)   (None, 2)                 0         \n",
            "=================================================================\n",
            "Total params: 209,763,074\n",
            "Trainable params: 209,763,074\n",
            "Non-trainable params: 0\n",
            "_________________________________________________________________\n"
          ],
          "name": "stdout"
        }
      ]
    },
    {
      "cell_type": "code",
      "metadata": {
        "colab": {
          "base_uri": "https://localhost:8080/"
        },
        "id": "oZlECys7qH71",
        "outputId": "daf2359e-b5ef-4540-ae9c-e20a09e55fd6"
      },
      "source": [
        "from keras.wrappers.scikit_learn import KerasClassifier\n",
        "from sklearn.metrics import accuracy_score\n",
        "from sklearn.metrics import make_scorer\n",
        "from sklearn.model_selection import GridSearchCV\n",
        "# create model\n",
        "model = KerasClassifier(build_fn=create_cnn_model, verbose=1)\n",
        "# define parameters and values for grid search \n",
        "batch_size = [10,15,20,30,40]\n",
        "epochs = [5,6,7, 8, 9,10 ]\n",
        "param_grid = dict(batch_size=batch_size, epochs=epochs)\n",
        "\n",
        "grid = GridSearchCV(estimator=model, param_grid=param_grid, n_jobs=-1, cv=3,scoring = 'accuracy')\n",
        "grid_result = grid.fit(train_X, train_y)\n",
        "print(grid_result.best_params_)\n"
      ],
      "execution_count": null,
      "outputs": [
        {
          "output_type": "stream",
          "text": [
            "Epoch 1/5\n",
            "  2/123 [..............................] - ETA: 4s - loss: 0.6892 - accuracy: 0.7000WARNING:tensorflow:Callbacks method `on_train_batch_end` is slow compared to the batch time (batch time: 0.0265s vs `on_train_batch_end` time: 0.0474s). Check your callbacks.\n",
            "123/123 [==============================] - 9s 74ms/step - loss: 0.6947 - accuracy: 0.5130\n",
            "Epoch 2/5\n",
            "123/123 [==============================] - 9s 74ms/step - loss: 0.6823 - accuracy: 0.5676\n",
            "Epoch 3/5\n",
            "123/123 [==============================] - 9s 74ms/step - loss: 0.6351 - accuracy: 0.6384\n",
            "Epoch 4/5\n",
            "123/123 [==============================] - 9s 74ms/step - loss: 0.5787 - accuracy: 0.6979\n",
            "Epoch 5/5\n",
            "123/123 [==============================] - 9s 74ms/step - loss: 0.5484 - accuracy: 0.7166\n",
            "{'batch_size': 10, 'epochs': 5}\n"
          ],
          "name": "stdout"
        }
      ]
    },
    {
      "cell_type": "code",
      "metadata": {
        "colab": {
          "base_uri": "https://localhost:8080/"
        },
        "id": "VTPuNhjH0j-w",
        "outputId": "5e085af8-ba27-4f9f-d890-b05131a1a51a"
      },
      "source": [
        "history = model.fit(train_X, train_y, batch_size=10, epochs=5)"
      ],
      "execution_count": null,
      "outputs": [
        {
          "output_type": "stream",
          "text": [
            "Epoch 1/5\n",
            "  2/123 [..............................] - ETA: 7s - loss: 0.6977 - accuracy: 0.4500WARNING:tensorflow:Callbacks method `on_train_batch_end` is slow compared to the batch time (batch time: 0.0263s vs `on_train_batch_end` time: 0.0471s). Check your callbacks.\n",
            "123/123 [==============================] - 9s 74ms/step - loss: 0.6948 - accuracy: 0.5024\n",
            "Epoch 2/5\n",
            "123/123 [==============================] - 9s 74ms/step - loss: 0.6842 - accuracy: 0.5733\n",
            "Epoch 3/5\n",
            "123/123 [==============================] - 9s 74ms/step - loss: 0.6769 - accuracy: 0.5651\n",
            "Epoch 4/5\n",
            "123/123 [==============================] - 9s 74ms/step - loss: 0.6108 - accuracy: 0.6759\n",
            "Epoch 5/5\n",
            "123/123 [==============================] - 9s 74ms/step - loss: 0.5829 - accuracy: 0.7068\n"
          ],
          "name": "stdout"
        }
      ]
    },
    {
      "cell_type": "code",
      "metadata": {
        "colab": {
          "base_uri": "https://localhost:8080/"
        },
        "id": "PNjNKpE50kCX",
        "outputId": "b6b83a2d-2a65-4925-c9af-809a4d2cb9d9"
      },
      "source": [
        "from sklearn.metrics import classification_report, confusion_matrix\n",
        "\n",
        "y_pred1 = model.predict(test_X)\n",
        "\n",
        "print(confusion_matrix(test_y,y_pred1))\n",
        "print(classification_report(test_y,y_pred1))"
      ],
      "execution_count": null,
      "outputs": [
        {
          "output_type": "stream",
          "text": [
            "WARNING:tensorflow:From /usr/local/lib/python3.6/dist-packages/tensorflow/python/keras/wrappers/scikit_learn.py:241: Sequential.predict_classes (from tensorflow.python.keras.engine.sequential) is deprecated and will be removed after 2021-01-01.\n",
            "Instructions for updating:\n",
            "Please use instead:* `np.argmax(model.predict(x), axis=-1)`,   if your model does multi-class classification   (e.g. if it uses a `softmax` last-layer activation).* `(model.predict(x) > 0.5).astype(\"int32\")`,   if your model does binary classification   (e.g. if it uses a `sigmoid` last-layer activation).\n",
            " 2/10 [=====>........................] - ETA: 0sWARNING:tensorflow:Callbacks method `on_predict_batch_end` is slow compared to the batch time (batch time: 0.0111s vs `on_predict_batch_end` time: 0.0627s). Check your callbacks.\n",
            "10/10 [==============================] - 1s 70ms/step\n",
            "[[ 96  53]\n",
            " [ 28 131]]\n",
            "              precision    recall  f1-score   support\n",
            "\n",
            "           0       0.77      0.64      0.70       149\n",
            "           1       0.71      0.82      0.76       159\n",
            "\n",
            "    accuracy                           0.74       308\n",
            "   macro avg       0.74      0.73      0.73       308\n",
            "weighted avg       0.74      0.74      0.73       308\n",
            "\n"
          ],
          "name": "stdout"
        }
      ]
    },
    {
      "cell_type": "code",
      "metadata": {
        "colab": {
          "base_uri": "https://localhost:8080/",
          "height": 295
        },
        "id": "ogG-CrnA0kF0",
        "outputId": "febdbf2f-61f5-4680-b945-edf1abed16e6"
      },
      "source": [
        "plt.plot(history.history['accuracy'])\n",
        "plt.plot(history.history['loss'])\n",
        "\n",
        "plt.title('Accuracy & Loss')\n",
        "\n",
        "plt.xlabel('Epoch')\n",
        "plt.ylabel('Accuracy')\n",
        "           \n",
        "plt.legend(['Accuracy','Loss'], loc='upper left')\n",
        "plt.show()"
      ],
      "execution_count": null,
      "outputs": [
        {
          "output_type": "display_data",
          "data": {
            "image/png": "[encoded data removed]",
            "text/plain": [
              "<Figure size 432x288 with 1 Axes>"
            ]
          },
          "metadata": {
            "tags": [],
            "needs_background": "light"
          }
        }
      ]
    }
  ]
}