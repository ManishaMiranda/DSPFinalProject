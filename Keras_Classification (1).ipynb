{
 "cells": [
  {
   "cell_type": "code",
   "execution_count": null,
   "metadata": {
    "colab": {
     "background_save": true
    },
    "id": "-dBJ2WdeUX0_"
   },
   "outputs": [],
   "source": [
    "import numpy as np\n",
    "import os\n",
    "from matplotlib import pyplot as plt\n",
    "import cv2\n",
    "import random\n",
    "import numpy as np\n",
    "import imgaug.augmenters as iaa\n",
    "\n",
    "\n",
    "#/content/drive/My Drive/level_0_500\n",
    "DATADIR = \"/content/drive/MyDrive/Augmentation\"\n",
    "CATEGORIES = [\"level0_aug\",\"level4_aug\"] "
   ]
  },
  {
   "cell_type": "code",
   "execution_count": null,
   "metadata": {
    "id": "FguQ8bFfUeqw"
   },
   "outputs": [],
   "source": [
    "training_data = []\n",
    "\n",
    "\n",
    "def create_training_data():\n",
    "    for category in CATEGORIES :\n",
    "        path = os.path.join(DATADIR, category)\n",
    "        class_num = CATEGORIES.index(category)\n",
    "        for img in os.listdir(path):\n",
    "            try :\n",
    "                img_array = cv2.imread(os.path.join(path, img),cv2.IMREAD_COLOR)[...,::-1]\n",
    "                img_array = cv2.cvtColor(img_array, cv2.COLOR_BGR2GRAY)\n",
    "                img_array = cv2.addWeighted(img_array,4, cv2.GaussianBlur(img_array , (0,0) , 20) ,-4 ,128)\n",
    "                new_array = cv2.resize(img_array, (512, 512))\n",
    "                training_data.append([new_array, class_num])\n",
    "                rotate=iaa.Affine(rotate=(90))\n",
    "                rotated_image=rotate.augment_image(new_array)\n",
    "                training_data.append([rotated_image, class_num])\n",
    "                flip_hr=iaa.Fliplr(p=1.0)\n",
    "                flip_hr_image= flip_hr.augment_image(new_array)\n",
    "                training_data.append([flip_hr_image, class_num])\n",
    "            except Exception as e:\n",
    "                pass"
   ]
  },
  {
   "cell_type": "code",
   "execution_count": null,
   "metadata": {
    "id": "DUgsu2mRUetp"
   },
   "outputs": [],
   "source": [
    "create_training_data()"
   ]
  },
  {
   "cell_type": "code",
   "execution_count": null,
   "metadata": {
    "colab": {
     "base_uri": "https://localhost:8080/"
    },
    "id": "zX4P6jnKUexW",
    "outputId": "f3b8a64a-b950-42a2-fe00-3f9a8fe68259"
   },
   "outputs": [
    {
     "data": {
      "text/plain": [
       "(627, 512, 512)"
      ]
     },
     "execution_count": 4,
     "metadata": {
      "tags": []
     },
     "output_type": "execute_result"
    }
   ],
   "source": [
    "X = [] #features\n",
    "y = [] #labels\n",
    "\n",
    "for features in training_data:\n",
    "    X.append(features[0])\n",
    "    y.append(features[1])\n",
    "X = np.array(X)\n",
    "X.shape"
   ]
  },
  {
   "cell_type": "code",
   "execution_count": null,
   "metadata": {
    "id": "SR1dTpLHUe0m"
   },
   "outputs": [],
   "source": [
    "from sklearn.model_selection import train_test_split\n",
    "\n",
    "X_train_full, test_X, y_train_full, test_y = train_test_split(X, y, test_size=0.2, stratify=y)"
   ]
  },
  {
   "cell_type": "code",
   "execution_count": null,
   "metadata": {
    "id": "3U8RBgT-Ue3p"
   },
   "outputs": [],
   "source": [
    "X_valid, X_train = X_train_full[:70] / 255.0, X_train_full[70:] / 255.0\n",
    "y_valid, y_train = y_train_full[:70], y_train_full[70:]"
   ]
  },
  {
   "cell_type": "code",
   "execution_count": null,
   "metadata": {
    "id": "P07L4b4lXtCG"
   },
   "outputs": [],
   "source": [
    "y_train = np.array(y_train)\n",
    "y_valid = np.array(y_valid)"
   ]
  },
  {
   "cell_type": "code",
   "execution_count": null,
   "metadata": {
    "colab": {
     "base_uri": "https://localhost:8080/"
    },
    "id": "Gd7T8js6Xhsq",
    "outputId": "e82032b3-6e0b-43ba-fd1d-4de5c134e2fc"
   },
   "outputs": [
    {
     "data": {
      "text/plain": [
       "((431, 512, 512), (70, 512, 512), (431,))"
      ]
     },
     "execution_count": 8,
     "metadata": {
      "tags": []
     },
     "output_type": "execute_result"
    }
   ],
   "source": [
    "X_train.shape,X_valid.shape,y_train.shape"
   ]
  },
  {
   "cell_type": "code",
   "execution_count": null,
   "metadata": {
    "id": "Ui90nhNcUe8S"
   },
   "outputs": [],
   "source": [
    "from tensorflow import keras\n",
    "model = keras.models.Sequential()\n",
    "model.add(keras.layers.Flatten(input_shape=[512, 512]))\n",
    "model.add(keras.layers.Dense(4096, activation=\"relu\"))\n",
    "model.add(keras.layers.Dense(1024, activation=\"tanh\"))\n",
    "model.add(keras.layers.Dense(512, activation=\"relu\"))\n",
    "model.add(keras.layers.Dense(256, activation=\"tanh\"))\n",
    "model.add(keras.layers.Dense(128, activation=\"relu\"))\n",
    "model.add(keras.layers.Dense(64, activation=\"tanh\"))\n",
    "model.add(keras.layers.Dense(32, activation=\"relu\"))\n",
    "model.add(keras.layers.Dense(2, activation=\"sigmoid\"))"
   ]
  },
  {
   "cell_type": "code",
   "execution_count": null,
   "metadata": {
    "id": "1ttOIIk9Ue__"
   },
   "outputs": [],
   "source": [
    "sgd = keras.optimizers.SGD(lr=0.001)\n",
    "\n",
    "\n",
    "#You need to use \"categorical_crossentropy\" for mutli-class\n",
    "#but since our target is ordinal, we need to use \"sparse_...\"\n",
    "#if it is binary classification, then use binary_crossentropy\n",
    "\n",
    "model.compile(loss='sparse_categorical_crossentropy', optimizer=sgd, metrics=['accuracy'])"
   ]
  },
  {
   "cell_type": "code",
   "execution_count": null,
   "metadata": {
    "colab": {
     "base_uri": "https://localhost:8080/"
    },
    "id": "3TQ0UkHEUfDS",
    "outputId": "32ed9ec5-7f78-44d2-fd80-d6162e4690ae"
   },
   "outputs": [
    {
     "name": "stdout",
     "output_type": "stream",
     "text": [
      "Epoch 1/7\n",
      "44/44 [==============================] - 6s 127ms/step - loss: 0.6984 - accuracy: 0.4896 - val_loss: 0.7136 - val_accuracy: 0.4714\n",
      "Epoch 2/7\n",
      "44/44 [==============================] - 6s 127ms/step - loss: 0.6968 - accuracy: 0.5012 - val_loss: 0.6907 - val_accuracy: 0.5286\n",
      "Epoch 3/7\n",
      "44/44 [==============================] - 6s 128ms/step - loss: 0.6961 - accuracy: 0.4849 - val_loss: 0.6938 - val_accuracy: 0.5286\n",
      "Epoch 4/7\n",
      "44/44 [==============================] - 6s 126ms/step - loss: 0.6980 - accuracy: 0.4872 - val_loss: 0.6908 - val_accuracy: 0.5286\n",
      "Epoch 5/7\n",
      "44/44 [==============================] - 6s 125ms/step - loss: 0.6933 - accuracy: 0.5128 - val_loss: 0.6889 - val_accuracy: 0.5286\n",
      "Epoch 6/7\n",
      "44/44 [==============================] - 6s 126ms/step - loss: 0.6953 - accuracy: 0.4826 - val_loss: 0.6884 - val_accuracy: 0.5286\n",
      "Epoch 7/7\n",
      "44/44 [==============================] - 6s 126ms/step - loss: 0.6901 - accuracy: 0.5267 - val_loss: 0.7260 - val_accuracy: 0.4714\n"
     ]
    }
   ],
   "source": [
    "history = model.fit(X_train, y_train, epochs=7,batch_size= 10,validation_data=(X_valid, y_valid))"
   ]
  },
  {
   "cell_type": "code",
   "execution_count": null,
   "metadata": {
    "colab": {
     "base_uri": "https://localhost:8080/"
    },
    "id": "nRLhTldAUfMO",
    "outputId": "6551dbee-c2a0-4a7a-870c-373ee7f48d3d"
   },
   "outputs": [
    {
     "name": "stdout",
     "output_type": "stream",
     "text": [
      "[[ 0 63]\n",
      " [ 0 63]]\n",
      "              precision    recall  f1-score   support\n",
      "\n",
      "           0       0.00      0.00      0.00        63\n",
      "           1       0.50      1.00      0.67        63\n",
      "\n",
      "    accuracy                           0.50       126\n",
      "   macro avg       0.25      0.50      0.33       126\n",
      "weighted avg       0.25      0.50      0.33       126\n",
      "\n"
     ]
    },
    {
     "name": "stderr",
     "output_type": "stream",
     "text": [
      "/usr/local/lib/python3.6/dist-packages/sklearn/metrics/_classification.py:1272: UndefinedMetricWarning: Precision and F-score are ill-defined and being set to 0.0 in labels with no predicted samples. Use `zero_division` parameter to control this behavior.\n",
      "  _warn_prf(average, modifier, msg_start, len(result))\n"
     ]
    }
   ],
   "source": [
    "from sklearn.metrics import classification_report, confusion_matrix\n",
    "\n",
    "y_pred = model.predict(test_X)\n",
    "\n",
    "ypred=[]\n",
    "\n",
    "for i in y_pred:\n",
    "    if i[0]>i[1]:\n",
    "        ypred.append(0)\n",
    "    else:\n",
    "        ypred.append(1)\n",
    "ypred=np.array(ypred)\n",
    "\n",
    "print(confusion_matrix(test_y,ypred))\n",
    "print(classification_report(test_y,ypred))"
   ]
  },
  {
   "cell_type": "code",
   "execution_count": null,
   "metadata": {
    "id": "Yp_yvHNqUfPz"
   },
   "outputs": [],
   "source": [
    "def create_model():\n",
    "\t# create model\n",
    "  model = keras.models.Sequential()\n",
    "  model.add(keras.layers.Flatten(input_shape=[512, 512]))\n",
    "  model.add(keras.layers.Dense(512, activation=\"relu\"))\n",
    "  model.add(keras.layers.Dense(512, activation=\"relu\"))\n",
    "  model.add(keras.layers.Dense(256, activation=\"relu\"))\n",
    "  model.add(keras.layers.Dense(256, activation=\"relu\"))\n",
    "  model.add(keras.layers.Dense(128, activation=\"relu\"))\n",
    "  model.add(keras.layers.Dense(2, activation=\"sigmoid\"))\n",
    "\t# Compile model\n",
    " \n",
    "\n",
    "\n",
    "#You need to use \"categorical_crossentropy\" for mutli-class\n",
    "#but since our target is ordinal, we need to use \"sparse_...\"\n",
    "#if it is binary classification, then use binary_crossentropy\n",
    "  sgd = keras.optimizers.SGD(lr=0.0001)\n",
    "  model.compile(loss='sparse_categorical_crossentropy', optimizer=sgd, metrics=['accuracy'])\n",
    "  return model"
   ]
  },
  {
   "cell_type": "code",
   "execution_count": null,
   "metadata": {
    "id": "kLOhBnH-UfVR"
   },
   "outputs": [],
   "source": [
    "from keras.wrappers.scikit_learn import KerasClassifier\n",
    "from sklearn.model_selection import GridSearchCV\n",
    "\n",
    "model = KerasClassifier(build_fn=create_model, verbose=1)\n",
    "# define the grid search parameters\n",
    "batch_size = [10, 20, 30, 5, 15, 25]\n",
    "epochs = [10, 20, 30,5,40]\n",
    "#learn_rate = [0.001, 0.01, 0.1, 0.2, 0.3]\n",
    "param_grid = dict(batch_size=batch_size, epochs=epochs)\n",
    "grid = GridSearchCV(estimator=model, param_grid=param_grid, n_jobs=-1, cv=3)\n",
    "grid_result = grid.fit(X, y)"
   ]
  },
  {
   "cell_type": "code",
   "execution_count": null,
   "metadata": {
    "colab": {
     "base_uri": "https://localhost:8080/",
     "height": 163
    },
    "id": "ypj2L7iIg8q2",
    "outputId": "8d1ff917-56d5-4367-a4cd-afb1eb9e17a6"
   },
   "outputs": [
    {
     "ename": "NameError",
     "evalue": "ignored",
     "output_type": "error",
     "traceback": [
      "\u001b[0;31m---------------------------------------------------------------------------\u001b[0m",
      "\u001b[0;31mNameError\u001b[0m                                 Traceback (most recent call last)",
      "\u001b[0;32m<ipython-input-15-b26bf9416af6>\u001b[0m in \u001b[0;36m<module>\u001b[0;34m()\u001b[0m\n\u001b[0;32m----> 1\u001b[0;31m \u001b[0mprint\u001b[0m\u001b[0;34m(\u001b[0m\u001b[0;34m\"Best: %f using %s\"\u001b[0m \u001b[0;34m%\u001b[0m \u001b[0;34m(\u001b[0m\u001b[0mgrid_result\u001b[0m\u001b[0;34m.\u001b[0m\u001b[0mbest_score_\u001b[0m\u001b[0;34m,\u001b[0m \u001b[0mgrid_result\u001b[0m\u001b[0;34m.\u001b[0m\u001b[0mbest_params_\u001b[0m\u001b[0;34m)\u001b[0m\u001b[0;34m)\u001b[0m\u001b[0;34m\u001b[0m\u001b[0;34m\u001b[0m\u001b[0m\n\u001b[0m",
      "\u001b[0;31mNameError\u001b[0m: name 'grid_result' is not defined"
     ]
    }
   ],
   "source": [
    "print(\"Best: %f using %s\" % (grid_result.best_score_, grid_result.best_params_))"
   ]
  }
 ],
 "metadata": {
  "colab": {
   "machine_shape": "hm",
   "name": "Keras_Classification.ipynb",
   "provenance": []
  },
  "kernelspec": {
   "display_name": "Python 3",
   "language": "python",
   "name": "python3"
  },
  "language_info": {
   "codemirror_mode": {
    "name": "ipython",
    "version": 3
   },
   "file_extension": ".py",
   "mimetype": "text/x-python",
   "name": "python",
   "nbconvert_exporter": "python",
   "pygments_lexer": "ipython3",
   "version": "3.7.4"
  }
 },
 "nbformat": 4,
 "nbformat_minor": 1
}
